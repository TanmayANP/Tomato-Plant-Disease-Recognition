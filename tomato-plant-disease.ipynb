{
 "cells": [
  {
   "cell_type": "code",
   "execution_count": 1,
   "id": "03bf6c75",
   "metadata": {
    "execution": {
     "iopub.execute_input": "2021-10-01T12:19:13.515817Z",
     "iopub.status.busy": "2021-10-01T12:19:13.515220Z",
     "iopub.status.idle": "2021-10-01T12:19:17.759568Z",
     "shell.execute_reply": "2021-10-01T12:19:17.760715Z",
     "shell.execute_reply.started": "2021-10-01T08:31:04.303319Z"
    },
    "papermill": {
     "duration": 4.336726,
     "end_time": "2021-10-01T12:19:17.761058",
     "exception": false,
     "start_time": "2021-10-01T12:19:13.424332",
     "status": "completed"
    },
    "tags": []
   },
   "outputs": [
    {
     "name": "stderr",
     "output_type": "stream",
     "text": [
      "2021-10-01 12:19:13.995174: I tensorflow/stream_executor/platform/default/dso_loader.cc:49] Successfully opened dynamic library libcudart.so.11.0\n"
     ]
    },
    {
     "data": {
      "text/plain": [
       "'2.4.1'"
      ]
     },
     "execution_count": 1,
     "metadata": {},
     "output_type": "execute_result"
    }
   ],
   "source": [
    "# Importing requiredlibraries\n",
    "import numpy as np\n",
    "import pandas as pd\n",
    "import tensorflow as tf\n",
    "import tensorflow.keras as keras\n",
    "from tensorflow.keras.preprocessing.image import ImageDataGenerator\n",
    "from tensorflow.keras.applications import xception\n",
    "tf.__version__"
   ]
  },
  {
   "cell_type": "code",
   "execution_count": 2,
   "id": "e230eaab",
   "metadata": {
    "execution": {
     "iopub.execute_input": "2021-10-01T12:19:17.805896Z",
     "iopub.status.busy": "2021-10-01T12:19:17.805057Z",
     "iopub.status.idle": "2021-10-01T12:19:17.807266Z",
     "shell.execute_reply": "2021-10-01T12:19:17.806614Z",
     "shell.execute_reply.started": "2021-10-01T08:31:08.512026Z"
    },
    "papermill": {
     "duration": 0.027211,
     "end_time": "2021-10-01T12:19:17.807405",
     "exception": false,
     "start_time": "2021-10-01T12:19:17.780194",
     "status": "completed"
    },
    "tags": []
   },
   "outputs": [],
   "source": [
    "# train and valid data path\n",
    "train_path = '../input/tomato/New Plant Diseases Dataset(Augmented)/train'\n",
    "valid_path = '../input/tomato/New Plant Diseases Dataset(Augmented)/valid'"
   ]
  },
  {
   "cell_type": "code",
   "execution_count": 3,
   "id": "d523ad38",
   "metadata": {
    "execution": {
     "iopub.execute_input": "2021-10-01T12:19:17.851007Z",
     "iopub.status.busy": "2021-10-01T12:19:17.850180Z",
     "iopub.status.idle": "2021-10-01T12:19:17.852370Z",
     "shell.execute_reply": "2021-10-01T12:19:17.851720Z",
     "shell.execute_reply.started": "2021-10-01T08:31:08.527108Z"
    },
    "papermill": {
     "duration": 0.026936,
     "end_time": "2021-10-01T12:19:17.852515",
     "exception": false,
     "start_time": "2021-10-01T12:19:17.825579",
     "status": "completed"
    },
    "tags": []
   },
   "outputs": [],
   "source": [
    "# Creating Dataset Generators using flow_from_directory method of ImageDataGenerator\n",
    "train_datagen = ImageDataGenerator(preprocessing_function=xception.preprocess_input, \n",
    "                                   shear_range=0.2, \n",
    "                                   zoom_range=0.2, \n",
    "                                   horizontal_flip=True)\n",
    "valid_datagen = ImageDataGenerator(preprocessing_function=xception.preprocess_input)"
   ]
  },
  {
   "cell_type": "code",
   "execution_count": 4,
   "id": "6d26a7d6",
   "metadata": {
    "execution": {
     "iopub.execute_input": "2021-10-01T12:19:17.893596Z",
     "iopub.status.busy": "2021-10-01T12:19:17.892841Z",
     "iopub.status.idle": "2021-10-01T12:19:26.042159Z",
     "shell.execute_reply": "2021-10-01T12:19:26.042645Z",
     "shell.execute_reply.started": "2021-10-01T08:31:08.540739Z"
    },
    "papermill": {
     "duration": 8.172132,
     "end_time": "2021-10-01T12:19:26.042838",
     "exception": false,
     "start_time": "2021-10-01T12:19:17.870706",
     "status": "completed"
    },
    "tags": []
   },
   "outputs": [
    {
     "name": "stdout",
     "output_type": "stream",
     "text": [
      "Found 18345 images belonging to 10 classes.\n"
     ]
    }
   ],
   "source": [
    "train_set = train_datagen.flow_from_directory(train_path, \n",
    "                                              target_size=(224, 224), \n",
    "                                              batch_size=32, \n",
    "                                              class_mode='categorical')"
   ]
  },
  {
   "cell_type": "code",
   "execution_count": 5,
   "id": "4ccecb7a",
   "metadata": {
    "execution": {
     "iopub.execute_input": "2021-10-01T12:19:26.073726Z",
     "iopub.status.busy": "2021-10-01T12:19:26.072915Z",
     "iopub.status.idle": "2021-10-01T12:19:26.893915Z",
     "shell.execute_reply": "2021-10-01T12:19:26.894426Z",
     "shell.execute_reply.started": "2021-10-01T08:31:15.479983Z"
    },
    "papermill": {
     "duration": 0.837982,
     "end_time": "2021-10-01T12:19:26.894582",
     "exception": false,
     "start_time": "2021-10-01T12:19:26.056600",
     "status": "completed"
    },
    "tags": []
   },
   "outputs": [
    {
     "name": "stdout",
     "output_type": "stream",
     "text": [
      "Found 4585 images belonging to 10 classes.\n"
     ]
    }
   ],
   "source": [
    "valid_set = valid_datagen.flow_from_directory(valid_path, \n",
    "                                              target_size=(224, 224), \n",
    "                                              batch_size=32, \n",
    "                                              class_mode='categorical')"
   ]
  },
  {
   "cell_type": "code",
   "execution_count": 6,
   "id": "ac14994e",
   "metadata": {
    "execution": {
     "iopub.execute_input": "2021-10-01T12:19:26.926082Z",
     "iopub.status.busy": "2021-10-01T12:19:26.925316Z",
     "iopub.status.idle": "2021-10-01T12:19:26.928200Z",
     "shell.execute_reply": "2021-10-01T12:19:26.928725Z",
     "shell.execute_reply.started": "2021-10-01T08:31:16.274826Z"
    },
    "papermill": {
     "duration": 0.02135,
     "end_time": "2021-10-01T12:19:26.928852",
     "exception": false,
     "start_time": "2021-10-01T12:19:26.907502",
     "status": "completed"
    },
    "tags": []
   },
   "outputs": [
    {
     "data": {
      "text/plain": [
       "{'Tomato___Bacterial_spot': 0,\n",
       " 'Tomato___Early_blight': 1,\n",
       " 'Tomato___Late_blight': 2,\n",
       " 'Tomato___Leaf_Mold': 3,\n",
       " 'Tomato___Septoria_leaf_spot': 4,\n",
       " 'Tomato___Spider_mites Two-spotted_spider_mite': 5,\n",
       " 'Tomato___Target_Spot': 6,\n",
       " 'Tomato___Tomato_Yellow_Leaf_Curl_Virus': 7,\n",
       " 'Tomato___Tomato_mosaic_virus': 8,\n",
       " 'Tomato___healthy': 9}"
      ]
     },
     "execution_count": 6,
     "metadata": {},
     "output_type": "execute_result"
    }
   ],
   "source": [
    "# Classes and their corresponding indices in prediction array\n",
    "train_set.class_indices"
   ]
  },
  {
   "cell_type": "code",
   "execution_count": 7,
   "id": "a6b61b10",
   "metadata": {
    "execution": {
     "iopub.execute_input": "2021-10-01T12:19:26.961559Z",
     "iopub.status.busy": "2021-10-01T12:19:26.960764Z",
     "iopub.status.idle": "2021-10-01T12:19:26.963861Z",
     "shell.execute_reply": "2021-10-01T12:19:26.964357Z",
     "shell.execute_reply.started": "2021-10-01T08:31:16.283027Z"
    },
    "papermill": {
     "duration": 0.022272,
     "end_time": "2021-10-01T12:19:26.964497",
     "exception": false,
     "start_time": "2021-10-01T12:19:26.942225",
     "status": "completed"
    },
    "tags": []
   },
   "outputs": [
    {
     "data": {
      "text/plain": [
       "(224, 224, 3)"
      ]
     },
     "execution_count": 7,
     "metadata": {},
     "output_type": "execute_result"
    }
   ],
   "source": [
    "# Final image shape before passing to model\n",
    "train_set.image_shape"
   ]
  },
  {
   "cell_type": "code",
   "execution_count": 8,
   "id": "85ab3398",
   "metadata": {
    "_kg_hide-output": true,
    "execution": {
     "iopub.execute_input": "2021-10-01T12:19:26.999749Z",
     "iopub.status.busy": "2021-10-01T12:19:26.998707Z",
     "iopub.status.idle": "2021-10-01T12:19:31.146255Z",
     "shell.execute_reply": "2021-10-01T12:19:31.145716Z",
     "shell.execute_reply.started": "2021-10-01T08:31:16.293326Z"
    },
    "papermill": {
     "duration": 4.165527,
     "end_time": "2021-10-01T12:19:31.146392",
     "exception": false,
     "start_time": "2021-10-01T12:19:26.980865",
     "status": "completed"
    },
    "scrolled": true,
    "tags": []
   },
   "outputs": [
    {
     "name": "stderr",
     "output_type": "stream",
     "text": [
      "2021-10-01 12:19:27.032746: I tensorflow/compiler/jit/xla_cpu_device.cc:41] Not creating XLA devices, tf_xla_enable_xla_devices not set\n",
      "2021-10-01 12:19:27.036209: I tensorflow/stream_executor/platform/default/dso_loader.cc:49] Successfully opened dynamic library libcuda.so.1\n",
      "2021-10-01 12:19:27.079792: I tensorflow/stream_executor/cuda/cuda_gpu_executor.cc:941] successful NUMA node read from SysFS had negative value (-1), but there must be at least one NUMA node, so returning NUMA node zero\n",
      "2021-10-01 12:19:27.080525: I tensorflow/core/common_runtime/gpu/gpu_device.cc:1720] Found device 0 with properties: \n",
      "pciBusID: 0000:00:04.0 name: Tesla P100-PCIE-16GB computeCapability: 6.0\n",
      "coreClock: 1.3285GHz coreCount: 56 deviceMemorySize: 15.90GiB deviceMemoryBandwidth: 681.88GiB/s\n",
      "2021-10-01 12:19:27.080592: I tensorflow/stream_executor/platform/default/dso_loader.cc:49] Successfully opened dynamic library libcudart.so.11.0\n",
      "2021-10-01 12:19:27.105413: I tensorflow/stream_executor/platform/default/dso_loader.cc:49] Successfully opened dynamic library libcublas.so.11\n",
      "2021-10-01 12:19:27.105513: I tensorflow/stream_executor/platform/default/dso_loader.cc:49] Successfully opened dynamic library libcublasLt.so.11\n",
      "2021-10-01 12:19:27.124199: I tensorflow/stream_executor/platform/default/dso_loader.cc:49] Successfully opened dynamic library libcufft.so.10\n",
      "2021-10-01 12:19:27.168200: I tensorflow/stream_executor/platform/default/dso_loader.cc:49] Successfully opened dynamic library libcurand.so.10\n",
      "2021-10-01 12:19:27.230096: I tensorflow/stream_executor/platform/default/dso_loader.cc:49] Successfully opened dynamic library libcusolver.so.10\n",
      "2021-10-01 12:19:27.239247: I tensorflow/stream_executor/platform/default/dso_loader.cc:49] Successfully opened dynamic library libcusparse.so.11\n",
      "2021-10-01 12:19:27.242613: I tensorflow/stream_executor/platform/default/dso_loader.cc:49] Successfully opened dynamic library libcudnn.so.8\n",
      "2021-10-01 12:19:27.242851: I tensorflow/stream_executor/cuda/cuda_gpu_executor.cc:941] successful NUMA node read from SysFS had negative value (-1), but there must be at least one NUMA node, so returning NUMA node zero\n",
      "2021-10-01 12:19:27.243694: I tensorflow/stream_executor/cuda/cuda_gpu_executor.cc:941] successful NUMA node read from SysFS had negative value (-1), but there must be at least one NUMA node, so returning NUMA node zero\n",
      "2021-10-01 12:19:27.245695: I tensorflow/core/common_runtime/gpu/gpu_device.cc:1862] Adding visible gpu devices: 0\n",
      "2021-10-01 12:19:27.246419: I tensorflow/core/platform/cpu_feature_guard.cc:142] This TensorFlow binary is optimized with oneAPI Deep Neural Network Library (oneDNN) to use the following CPU instructions in performance-critical operations:  AVX2 AVX512F FMA\n",
      "To enable them in other operations, rebuild TensorFlow with the appropriate compiler flags.\n",
      "2021-10-01 12:19:27.246634: I tensorflow/compiler/jit/xla_gpu_device.cc:99] Not creating XLA devices, tf_xla_enable_xla_devices not set\n",
      "2021-10-01 12:19:27.246801: I tensorflow/stream_executor/cuda/cuda_gpu_executor.cc:941] successful NUMA node read from SysFS had negative value (-1), but there must be at least one NUMA node, so returning NUMA node zero\n",
      "2021-10-01 12:19:27.247400: I tensorflow/core/common_runtime/gpu/gpu_device.cc:1720] Found device 0 with properties: \n",
      "pciBusID: 0000:00:04.0 name: Tesla P100-PCIE-16GB computeCapability: 6.0\n",
      "coreClock: 1.3285GHz coreCount: 56 deviceMemorySize: 15.90GiB deviceMemoryBandwidth: 681.88GiB/s\n",
      "2021-10-01 12:19:27.247445: I tensorflow/stream_executor/platform/default/dso_loader.cc:49] Successfully opened dynamic library libcudart.so.11.0\n",
      "2021-10-01 12:19:27.247470: I tensorflow/stream_executor/platform/default/dso_loader.cc:49] Successfully opened dynamic library libcublas.so.11\n",
      "2021-10-01 12:19:27.247487: I tensorflow/stream_executor/platform/default/dso_loader.cc:49] Successfully opened dynamic library libcublasLt.so.11\n",
      "2021-10-01 12:19:27.247520: I tensorflow/stream_executor/platform/default/dso_loader.cc:49] Successfully opened dynamic library libcufft.so.10\n",
      "2021-10-01 12:19:27.247536: I tensorflow/stream_executor/platform/default/dso_loader.cc:49] Successfully opened dynamic library libcurand.so.10\n",
      "2021-10-01 12:19:27.247573: I tensorflow/stream_executor/platform/default/dso_loader.cc:49] Successfully opened dynamic library libcusolver.so.10\n",
      "2021-10-01 12:19:27.247663: I tensorflow/stream_executor/platform/default/dso_loader.cc:49] Successfully opened dynamic library libcusparse.so.11\n",
      "2021-10-01 12:19:27.247716: I tensorflow/stream_executor/platform/default/dso_loader.cc:49] Successfully opened dynamic library libcudnn.so.8\n",
      "2021-10-01 12:19:27.247800: I tensorflow/stream_executor/cuda/cuda_gpu_executor.cc:941] successful NUMA node read from SysFS had negative value (-1), but there must be at least one NUMA node, so returning NUMA node zero\n",
      "2021-10-01 12:19:27.248486: I tensorflow/stream_executor/cuda/cuda_gpu_executor.cc:941] successful NUMA node read from SysFS had negative value (-1), but there must be at least one NUMA node, so returning NUMA node zero\n",
      "2021-10-01 12:19:27.249103: I tensorflow/core/common_runtime/gpu/gpu_device.cc:1862] Adding visible gpu devices: 0\n",
      "2021-10-01 12:19:27.250385: I tensorflow/stream_executor/platform/default/dso_loader.cc:49] Successfully opened dynamic library libcudart.so.11.0\n",
      "2021-10-01 12:19:28.935453: I tensorflow/core/common_runtime/gpu/gpu_device.cc:1261] Device interconnect StreamExecutor with strength 1 edge matrix:\n",
      "2021-10-01 12:19:28.935539: I tensorflow/core/common_runtime/gpu/gpu_device.cc:1267]      0 \n",
      "2021-10-01 12:19:28.935557: I tensorflow/core/common_runtime/gpu/gpu_device.cc:1280] 0:   N \n",
      "2021-10-01 12:19:28.937824: I tensorflow/stream_executor/cuda/cuda_gpu_executor.cc:941] successful NUMA node read from SysFS had negative value (-1), but there must be at least one NUMA node, so returning NUMA node zero\n",
      "2021-10-01 12:19:28.938844: I tensorflow/stream_executor/cuda/cuda_gpu_executor.cc:941] successful NUMA node read from SysFS had negative value (-1), but there must be at least one NUMA node, so returning NUMA node zero\n",
      "2021-10-01 12:19:28.939831: I tensorflow/stream_executor/cuda/cuda_gpu_executor.cc:941] successful NUMA node read from SysFS had negative value (-1), but there must be at least one NUMA node, so returning NUMA node zero\n",
      "2021-10-01 12:19:28.940695: I tensorflow/core/common_runtime/gpu/gpu_device.cc:1406] Created TensorFlow device (/job:localhost/replica:0/task:0/device:GPU:0 with 14957 MB memory) -> physical GPU (device: 0, name: Tesla P100-PCIE-16GB, pci bus id: 0000:00:04.0, compute capability: 6.0)\n"
     ]
    },
    {
     "name": "stdout",
     "output_type": "stream",
     "text": [
      "Downloading data from https://storage.googleapis.com/tensorflow/keras-applications/xception/xception_weights_tf_dim_ordering_tf_kernels_notop.h5\n",
      "83689472/83683744 [==============================] - 1s 0us/step\n"
     ]
    }
   ],
   "source": [
    "# Model building using transfer learning(base model: pretrained Xception)\n",
    "base_model = xception.Xception(input_shape= [224, 224, 3], weights='imagenet', include_top=False)\n",
    "avg = keras.layers.GlobalAveragePooling2D()(base_model.output)\n",
    "output = keras.layers.Dense(10, activation='softmax')(avg)\n",
    "model = keras.Model(inputs=base_model.input, outputs=output)"
   ]
  },
  {
   "cell_type": "code",
   "execution_count": 9,
   "id": "7faf1f57",
   "metadata": {
    "execution": {
     "iopub.execute_input": "2021-10-01T12:19:31.195135Z",
     "iopub.status.busy": "2021-10-01T12:19:31.194252Z",
     "iopub.status.idle": "2021-10-01T12:19:31.256320Z",
     "shell.execute_reply": "2021-10-01T12:19:31.257040Z",
     "shell.execute_reply.started": "2021-10-01T08:31:21.165372Z"
    },
    "papermill": {
     "duration": 0.091475,
     "end_time": "2021-10-01T12:19:31.257194",
     "exception": false,
     "start_time": "2021-10-01T12:19:31.165719",
     "status": "completed"
    },
    "scrolled": true,
    "tags": []
   },
   "outputs": [
    {
     "name": "stdout",
     "output_type": "stream",
     "text": [
      "Model: \"model\"\n",
      "__________________________________________________________________________________________________\n",
      "Layer (type)                    Output Shape         Param #     Connected to                     \n",
      "==================================================================================================\n",
      "input_1 (InputLayer)            [(None, 224, 224, 3) 0                                            \n",
      "__________________________________________________________________________________________________\n",
      "block1_conv1 (Conv2D)           (None, 111, 111, 32) 864         input_1[0][0]                    \n",
      "__________________________________________________________________________________________________\n",
      "block1_conv1_bn (BatchNormaliza (None, 111, 111, 32) 128         block1_conv1[0][0]               \n",
      "__________________________________________________________________________________________________\n",
      "block1_conv1_act (Activation)   (None, 111, 111, 32) 0           block1_conv1_bn[0][0]            \n",
      "__________________________________________________________________________________________________\n",
      "block1_conv2 (Conv2D)           (None, 109, 109, 64) 18432       block1_conv1_act[0][0]           \n",
      "__________________________________________________________________________________________________\n",
      "block1_conv2_bn (BatchNormaliza (None, 109, 109, 64) 256         block1_conv2[0][0]               \n",
      "__________________________________________________________________________________________________\n",
      "block1_conv2_act (Activation)   (None, 109, 109, 64) 0           block1_conv2_bn[0][0]            \n",
      "__________________________________________________________________________________________________\n",
      "block2_sepconv1 (SeparableConv2 (None, 109, 109, 128 8768        block1_conv2_act[0][0]           \n",
      "__________________________________________________________________________________________________\n",
      "block2_sepconv1_bn (BatchNormal (None, 109, 109, 128 512         block2_sepconv1[0][0]            \n",
      "__________________________________________________________________________________________________\n",
      "block2_sepconv2_act (Activation (None, 109, 109, 128 0           block2_sepconv1_bn[0][0]         \n",
      "__________________________________________________________________________________________________\n",
      "block2_sepconv2 (SeparableConv2 (None, 109, 109, 128 17536       block2_sepconv2_act[0][0]        \n",
      "__________________________________________________________________________________________________\n",
      "block2_sepconv2_bn (BatchNormal (None, 109, 109, 128 512         block2_sepconv2[0][0]            \n",
      "__________________________________________________________________________________________________\n",
      "conv2d (Conv2D)                 (None, 55, 55, 128)  8192        block1_conv2_act[0][0]           \n",
      "__________________________________________________________________________________________________\n",
      "block2_pool (MaxPooling2D)      (None, 55, 55, 128)  0           block2_sepconv2_bn[0][0]         \n",
      "__________________________________________________________________________________________________\n",
      "batch_normalization (BatchNorma (None, 55, 55, 128)  512         conv2d[0][0]                     \n",
      "__________________________________________________________________________________________________\n",
      "add (Add)                       (None, 55, 55, 128)  0           block2_pool[0][0]                \n",
      "                                                                 batch_normalization[0][0]        \n",
      "__________________________________________________________________________________________________\n",
      "block3_sepconv1_act (Activation (None, 55, 55, 128)  0           add[0][0]                        \n",
      "__________________________________________________________________________________________________\n",
      "block3_sepconv1 (SeparableConv2 (None, 55, 55, 256)  33920       block3_sepconv1_act[0][0]        \n",
      "__________________________________________________________________________________________________\n",
      "block3_sepconv1_bn (BatchNormal (None, 55, 55, 256)  1024        block3_sepconv1[0][0]            \n",
      "__________________________________________________________________________________________________\n",
      "block3_sepconv2_act (Activation (None, 55, 55, 256)  0           block3_sepconv1_bn[0][0]         \n",
      "__________________________________________________________________________________________________\n",
      "block3_sepconv2 (SeparableConv2 (None, 55, 55, 256)  67840       block3_sepconv2_act[0][0]        \n",
      "__________________________________________________________________________________________________\n",
      "block3_sepconv2_bn (BatchNormal (None, 55, 55, 256)  1024        block3_sepconv2[0][0]            \n",
      "__________________________________________________________________________________________________\n",
      "conv2d_1 (Conv2D)               (None, 28, 28, 256)  32768       add[0][0]                        \n",
      "__________________________________________________________________________________________________\n",
      "block3_pool (MaxPooling2D)      (None, 28, 28, 256)  0           block3_sepconv2_bn[0][0]         \n",
      "__________________________________________________________________________________________________\n",
      "batch_normalization_1 (BatchNor (None, 28, 28, 256)  1024        conv2d_1[0][0]                   \n",
      "__________________________________________________________________________________________________\n",
      "add_1 (Add)                     (None, 28, 28, 256)  0           block3_pool[0][0]                \n",
      "                                                                 batch_normalization_1[0][0]      \n",
      "__________________________________________________________________________________________________\n",
      "block4_sepconv1_act (Activation (None, 28, 28, 256)  0           add_1[0][0]                      \n",
      "__________________________________________________________________________________________________\n",
      "block4_sepconv1 (SeparableConv2 (None, 28, 28, 728)  188672      block4_sepconv1_act[0][0]        \n",
      "__________________________________________________________________________________________________\n",
      "block4_sepconv1_bn (BatchNormal (None, 28, 28, 728)  2912        block4_sepconv1[0][0]            \n",
      "__________________________________________________________________________________________________\n",
      "block4_sepconv2_act (Activation (None, 28, 28, 728)  0           block4_sepconv1_bn[0][0]         \n",
      "__________________________________________________________________________________________________\n",
      "block4_sepconv2 (SeparableConv2 (None, 28, 28, 728)  536536      block4_sepconv2_act[0][0]        \n",
      "__________________________________________________________________________________________________\n",
      "block4_sepconv2_bn (BatchNormal (None, 28, 28, 728)  2912        block4_sepconv2[0][0]            \n",
      "__________________________________________________________________________________________________\n",
      "conv2d_2 (Conv2D)               (None, 14, 14, 728)  186368      add_1[0][0]                      \n",
      "__________________________________________________________________________________________________\n",
      "block4_pool (MaxPooling2D)      (None, 14, 14, 728)  0           block4_sepconv2_bn[0][0]         \n",
      "__________________________________________________________________________________________________\n",
      "batch_normalization_2 (BatchNor (None, 14, 14, 728)  2912        conv2d_2[0][0]                   \n",
      "__________________________________________________________________________________________________\n",
      "add_2 (Add)                     (None, 14, 14, 728)  0           block4_pool[0][0]                \n",
      "                                                                 batch_normalization_2[0][0]      \n",
      "__________________________________________________________________________________________________\n",
      "block5_sepconv1_act (Activation (None, 14, 14, 728)  0           add_2[0][0]                      \n",
      "__________________________________________________________________________________________________\n",
      "block5_sepconv1 (SeparableConv2 (None, 14, 14, 728)  536536      block5_sepconv1_act[0][0]        \n",
      "__________________________________________________________________________________________________\n",
      "block5_sepconv1_bn (BatchNormal (None, 14, 14, 728)  2912        block5_sepconv1[0][0]            \n",
      "__________________________________________________________________________________________________\n",
      "block5_sepconv2_act (Activation (None, 14, 14, 728)  0           block5_sepconv1_bn[0][0]         \n",
      "__________________________________________________________________________________________________\n",
      "block5_sepconv2 (SeparableConv2 (None, 14, 14, 728)  536536      block5_sepconv2_act[0][0]        \n",
      "__________________________________________________________________________________________________\n",
      "block5_sepconv2_bn (BatchNormal (None, 14, 14, 728)  2912        block5_sepconv2[0][0]            \n",
      "__________________________________________________________________________________________________\n",
      "block5_sepconv3_act (Activation (None, 14, 14, 728)  0           block5_sepconv2_bn[0][0]         \n",
      "__________________________________________________________________________________________________\n",
      "block5_sepconv3 (SeparableConv2 (None, 14, 14, 728)  536536      block5_sepconv3_act[0][0]        \n",
      "__________________________________________________________________________________________________\n",
      "block5_sepconv3_bn (BatchNormal (None, 14, 14, 728)  2912        block5_sepconv3[0][0]            \n",
      "__________________________________________________________________________________________________\n",
      "add_3 (Add)                     (None, 14, 14, 728)  0           block5_sepconv3_bn[0][0]         \n",
      "                                                                 add_2[0][0]                      \n",
      "__________________________________________________________________________________________________\n",
      "block6_sepconv1_act (Activation (None, 14, 14, 728)  0           add_3[0][0]                      \n",
      "__________________________________________________________________________________________________\n",
      "block6_sepconv1 (SeparableConv2 (None, 14, 14, 728)  536536      block6_sepconv1_act[0][0]        \n",
      "__________________________________________________________________________________________________\n",
      "block6_sepconv1_bn (BatchNormal (None, 14, 14, 728)  2912        block6_sepconv1[0][0]            \n",
      "__________________________________________________________________________________________________\n",
      "block6_sepconv2_act (Activation (None, 14, 14, 728)  0           block6_sepconv1_bn[0][0]         \n",
      "__________________________________________________________________________________________________\n",
      "block6_sepconv2 (SeparableConv2 (None, 14, 14, 728)  536536      block6_sepconv2_act[0][0]        \n",
      "__________________________________________________________________________________________________\n",
      "block6_sepconv2_bn (BatchNormal (None, 14, 14, 728)  2912        block6_sepconv2[0][0]            \n",
      "__________________________________________________________________________________________________\n",
      "block6_sepconv3_act (Activation (None, 14, 14, 728)  0           block6_sepconv2_bn[0][0]         \n",
      "__________________________________________________________________________________________________\n",
      "block6_sepconv3 (SeparableConv2 (None, 14, 14, 728)  536536      block6_sepconv3_act[0][0]        \n",
      "__________________________________________________________________________________________________\n",
      "block6_sepconv3_bn (BatchNormal (None, 14, 14, 728)  2912        block6_sepconv3[0][0]            \n",
      "__________________________________________________________________________________________________\n",
      "add_4 (Add)                     (None, 14, 14, 728)  0           block6_sepconv3_bn[0][0]         \n",
      "                                                                 add_3[0][0]                      \n",
      "__________________________________________________________________________________________________\n",
      "block7_sepconv1_act (Activation (None, 14, 14, 728)  0           add_4[0][0]                      \n",
      "__________________________________________________________________________________________________\n",
      "block7_sepconv1 (SeparableConv2 (None, 14, 14, 728)  536536      block7_sepconv1_act[0][0]        \n",
      "__________________________________________________________________________________________________\n",
      "block7_sepconv1_bn (BatchNormal (None, 14, 14, 728)  2912        block7_sepconv1[0][0]            \n",
      "__________________________________________________________________________________________________\n",
      "block7_sepconv2_act (Activation (None, 14, 14, 728)  0           block7_sepconv1_bn[0][0]         \n",
      "__________________________________________________________________________________________________\n",
      "block7_sepconv2 (SeparableConv2 (None, 14, 14, 728)  536536      block7_sepconv2_act[0][0]        \n",
      "__________________________________________________________________________________________________\n",
      "block7_sepconv2_bn (BatchNormal (None, 14, 14, 728)  2912        block7_sepconv2[0][0]            \n",
      "__________________________________________________________________________________________________\n",
      "block7_sepconv3_act (Activation (None, 14, 14, 728)  0           block7_sepconv2_bn[0][0]         \n",
      "__________________________________________________________________________________________________\n",
      "block7_sepconv3 (SeparableConv2 (None, 14, 14, 728)  536536      block7_sepconv3_act[0][0]        \n",
      "__________________________________________________________________________________________________\n",
      "block7_sepconv3_bn (BatchNormal (None, 14, 14, 728)  2912        block7_sepconv3[0][0]            \n",
      "__________________________________________________________________________________________________\n",
      "add_5 (Add)                     (None, 14, 14, 728)  0           block7_sepconv3_bn[0][0]         \n",
      "                                                                 add_4[0][0]                      \n",
      "__________________________________________________________________________________________________\n",
      "block8_sepconv1_act (Activation (None, 14, 14, 728)  0           add_5[0][0]                      \n",
      "__________________________________________________________________________________________________\n",
      "block8_sepconv1 (SeparableConv2 (None, 14, 14, 728)  536536      block8_sepconv1_act[0][0]        \n",
      "__________________________________________________________________________________________________\n",
      "block8_sepconv1_bn (BatchNormal (None, 14, 14, 728)  2912        block8_sepconv1[0][0]            \n",
      "__________________________________________________________________________________________________\n",
      "block8_sepconv2_act (Activation (None, 14, 14, 728)  0           block8_sepconv1_bn[0][0]         \n",
      "__________________________________________________________________________________________________\n",
      "block8_sepconv2 (SeparableConv2 (None, 14, 14, 728)  536536      block8_sepconv2_act[0][0]        \n",
      "__________________________________________________________________________________________________\n",
      "block8_sepconv2_bn (BatchNormal (None, 14, 14, 728)  2912        block8_sepconv2[0][0]            \n",
      "__________________________________________________________________________________________________\n",
      "block8_sepconv3_act (Activation (None, 14, 14, 728)  0           block8_sepconv2_bn[0][0]         \n",
      "__________________________________________________________________________________________________\n",
      "block8_sepconv3 (SeparableConv2 (None, 14, 14, 728)  536536      block8_sepconv3_act[0][0]        \n",
      "__________________________________________________________________________________________________\n",
      "block8_sepconv3_bn (BatchNormal (None, 14, 14, 728)  2912        block8_sepconv3[0][0]            \n",
      "__________________________________________________________________________________________________\n",
      "add_6 (Add)                     (None, 14, 14, 728)  0           block8_sepconv3_bn[0][0]         \n",
      "                                                                 add_5[0][0]                      \n",
      "__________________________________________________________________________________________________\n",
      "block9_sepconv1_act (Activation (None, 14, 14, 728)  0           add_6[0][0]                      \n",
      "__________________________________________________________________________________________________\n",
      "block9_sepconv1 (SeparableConv2 (None, 14, 14, 728)  536536      block9_sepconv1_act[0][0]        \n",
      "__________________________________________________________________________________________________\n",
      "block9_sepconv1_bn (BatchNormal (None, 14, 14, 728)  2912        block9_sepconv1[0][0]            \n",
      "__________________________________________________________________________________________________\n",
      "block9_sepconv2_act (Activation (None, 14, 14, 728)  0           block9_sepconv1_bn[0][0]         \n",
      "__________________________________________________________________________________________________\n",
      "block9_sepconv2 (SeparableConv2 (None, 14, 14, 728)  536536      block9_sepconv2_act[0][0]        \n",
      "__________________________________________________________________________________________________\n",
      "block9_sepconv2_bn (BatchNormal (None, 14, 14, 728)  2912        block9_sepconv2[0][0]            \n",
      "__________________________________________________________________________________________________\n",
      "block9_sepconv3_act (Activation (None, 14, 14, 728)  0           block9_sepconv2_bn[0][0]         \n",
      "__________________________________________________________________________________________________\n",
      "block9_sepconv3 (SeparableConv2 (None, 14, 14, 728)  536536      block9_sepconv3_act[0][0]        \n",
      "__________________________________________________________________________________________________\n",
      "block9_sepconv3_bn (BatchNormal (None, 14, 14, 728)  2912        block9_sepconv3[0][0]            \n",
      "__________________________________________________________________________________________________\n",
      "add_7 (Add)                     (None, 14, 14, 728)  0           block9_sepconv3_bn[0][0]         \n",
      "                                                                 add_6[0][0]                      \n",
      "__________________________________________________________________________________________________\n",
      "block10_sepconv1_act (Activatio (None, 14, 14, 728)  0           add_7[0][0]                      \n",
      "__________________________________________________________________________________________________\n",
      "block10_sepconv1 (SeparableConv (None, 14, 14, 728)  536536      block10_sepconv1_act[0][0]       \n",
      "__________________________________________________________________________________________________\n",
      "block10_sepconv1_bn (BatchNorma (None, 14, 14, 728)  2912        block10_sepconv1[0][0]           \n",
      "__________________________________________________________________________________________________\n",
      "block10_sepconv2_act (Activatio (None, 14, 14, 728)  0           block10_sepconv1_bn[0][0]        \n",
      "__________________________________________________________________________________________________\n",
      "block10_sepconv2 (SeparableConv (None, 14, 14, 728)  536536      block10_sepconv2_act[0][0]       \n",
      "__________________________________________________________________________________________________\n",
      "block10_sepconv2_bn (BatchNorma (None, 14, 14, 728)  2912        block10_sepconv2[0][0]           \n",
      "__________________________________________________________________________________________________\n",
      "block10_sepconv3_act (Activatio (None, 14, 14, 728)  0           block10_sepconv2_bn[0][0]        \n",
      "__________________________________________________________________________________________________\n",
      "block10_sepconv3 (SeparableConv (None, 14, 14, 728)  536536      block10_sepconv3_act[0][0]       \n",
      "__________________________________________________________________________________________________\n",
      "block10_sepconv3_bn (BatchNorma (None, 14, 14, 728)  2912        block10_sepconv3[0][0]           \n",
      "__________________________________________________________________________________________________\n",
      "add_8 (Add)                     (None, 14, 14, 728)  0           block10_sepconv3_bn[0][0]        \n",
      "                                                                 add_7[0][0]                      \n",
      "__________________________________________________________________________________________________\n",
      "block11_sepconv1_act (Activatio (None, 14, 14, 728)  0           add_8[0][0]                      \n",
      "__________________________________________________________________________________________________\n",
      "block11_sepconv1 (SeparableConv (None, 14, 14, 728)  536536      block11_sepconv1_act[0][0]       \n",
      "__________________________________________________________________________________________________\n",
      "block11_sepconv1_bn (BatchNorma (None, 14, 14, 728)  2912        block11_sepconv1[0][0]           \n",
      "__________________________________________________________________________________________________\n",
      "block11_sepconv2_act (Activatio (None, 14, 14, 728)  0           block11_sepconv1_bn[0][0]        \n",
      "__________________________________________________________________________________________________\n",
      "block11_sepconv2 (SeparableConv (None, 14, 14, 728)  536536      block11_sepconv2_act[0][0]       \n",
      "__________________________________________________________________________________________________\n",
      "block11_sepconv2_bn (BatchNorma (None, 14, 14, 728)  2912        block11_sepconv2[0][0]           \n",
      "__________________________________________________________________________________________________\n",
      "block11_sepconv3_act (Activatio (None, 14, 14, 728)  0           block11_sepconv2_bn[0][0]        \n",
      "__________________________________________________________________________________________________\n",
      "block11_sepconv3 (SeparableConv (None, 14, 14, 728)  536536      block11_sepconv3_act[0][0]       \n",
      "__________________________________________________________________________________________________\n",
      "block11_sepconv3_bn (BatchNorma (None, 14, 14, 728)  2912        block11_sepconv3[0][0]           \n",
      "__________________________________________________________________________________________________\n",
      "add_9 (Add)                     (None, 14, 14, 728)  0           block11_sepconv3_bn[0][0]        \n",
      "                                                                 add_8[0][0]                      \n",
      "__________________________________________________________________________________________________\n",
      "block12_sepconv1_act (Activatio (None, 14, 14, 728)  0           add_9[0][0]                      \n",
      "__________________________________________________________________________________________________\n",
      "block12_sepconv1 (SeparableConv (None, 14, 14, 728)  536536      block12_sepconv1_act[0][0]       \n",
      "__________________________________________________________________________________________________\n",
      "block12_sepconv1_bn (BatchNorma (None, 14, 14, 728)  2912        block12_sepconv1[0][0]           \n",
      "__________________________________________________________________________________________________\n",
      "block12_sepconv2_act (Activatio (None, 14, 14, 728)  0           block12_sepconv1_bn[0][0]        \n",
      "__________________________________________________________________________________________________\n",
      "block12_sepconv2 (SeparableConv (None, 14, 14, 728)  536536      block12_sepconv2_act[0][0]       \n",
      "__________________________________________________________________________________________________\n",
      "block12_sepconv2_bn (BatchNorma (None, 14, 14, 728)  2912        block12_sepconv2[0][0]           \n",
      "__________________________________________________________________________________________________\n",
      "block12_sepconv3_act (Activatio (None, 14, 14, 728)  0           block12_sepconv2_bn[0][0]        \n",
      "__________________________________________________________________________________________________\n",
      "block12_sepconv3 (SeparableConv (None, 14, 14, 728)  536536      block12_sepconv3_act[0][0]       \n",
      "__________________________________________________________________________________________________\n",
      "block12_sepconv3_bn (BatchNorma (None, 14, 14, 728)  2912        block12_sepconv3[0][0]           \n",
      "__________________________________________________________________________________________________\n",
      "add_10 (Add)                    (None, 14, 14, 728)  0           block12_sepconv3_bn[0][0]        \n",
      "                                                                 add_9[0][0]                      \n",
      "__________________________________________________________________________________________________\n",
      "block13_sepconv1_act (Activatio (None, 14, 14, 728)  0           add_10[0][0]                     \n",
      "__________________________________________________________________________________________________\n",
      "block13_sepconv1 (SeparableConv (None, 14, 14, 728)  536536      block13_sepconv1_act[0][0]       \n",
      "__________________________________________________________________________________________________\n",
      "block13_sepconv1_bn (BatchNorma (None, 14, 14, 728)  2912        block13_sepconv1[0][0]           \n",
      "__________________________________________________________________________________________________\n",
      "block13_sepconv2_act (Activatio (None, 14, 14, 728)  0           block13_sepconv1_bn[0][0]        \n",
      "__________________________________________________________________________________________________\n",
      "block13_sepconv2 (SeparableConv (None, 14, 14, 1024) 752024      block13_sepconv2_act[0][0]       \n",
      "__________________________________________________________________________________________________\n",
      "block13_sepconv2_bn (BatchNorma (None, 14, 14, 1024) 4096        block13_sepconv2[0][0]           \n",
      "__________________________________________________________________________________________________\n",
      "conv2d_3 (Conv2D)               (None, 7, 7, 1024)   745472      add_10[0][0]                     \n",
      "__________________________________________________________________________________________________\n",
      "block13_pool (MaxPooling2D)     (None, 7, 7, 1024)   0           block13_sepconv2_bn[0][0]        \n",
      "__________________________________________________________________________________________________\n",
      "batch_normalization_3 (BatchNor (None, 7, 7, 1024)   4096        conv2d_3[0][0]                   \n",
      "__________________________________________________________________________________________________\n",
      "add_11 (Add)                    (None, 7, 7, 1024)   0           block13_pool[0][0]               \n",
      "                                                                 batch_normalization_3[0][0]      \n",
      "__________________________________________________________________________________________________\n",
      "block14_sepconv1 (SeparableConv (None, 7, 7, 1536)   1582080     add_11[0][0]                     \n",
      "__________________________________________________________________________________________________\n",
      "block14_sepconv1_bn (BatchNorma (None, 7, 7, 1536)   6144        block14_sepconv1[0][0]           \n",
      "__________________________________________________________________________________________________\n",
      "block14_sepconv1_act (Activatio (None, 7, 7, 1536)   0           block14_sepconv1_bn[0][0]        \n",
      "__________________________________________________________________________________________________\n",
      "block14_sepconv2 (SeparableConv (None, 7, 7, 2048)   3159552     block14_sepconv1_act[0][0]       \n",
      "__________________________________________________________________________________________________\n",
      "block14_sepconv2_bn (BatchNorma (None, 7, 7, 2048)   8192        block14_sepconv2[0][0]           \n",
      "__________________________________________________________________________________________________\n",
      "block14_sepconv2_act (Activatio (None, 7, 7, 2048)   0           block14_sepconv2_bn[0][0]        \n",
      "__________________________________________________________________________________________________\n",
      "global_average_pooling2d (Globa (None, 2048)         0           block14_sepconv2_act[0][0]       \n",
      "__________________________________________________________________________________________________\n",
      "dense (Dense)                   (None, 10)           20490       global_average_pooling2d[0][0]   \n",
      "==================================================================================================\n",
      "Total params: 20,881,970\n",
      "Trainable params: 20,827,442\n",
      "Non-trainable params: 54,528\n",
      "__________________________________________________________________________________________________\n"
     ]
    }
   ],
   "source": [
    "model.summary()"
   ]
  },
  {
   "cell_type": "code",
   "execution_count": 10,
   "id": "b96199ea",
   "metadata": {
    "execution": {
     "iopub.execute_input": "2021-10-01T12:19:31.304352Z",
     "iopub.status.busy": "2021-10-01T12:19:31.303607Z",
     "iopub.status.idle": "2021-10-01T12:19:31.315285Z",
     "shell.execute_reply": "2021-10-01T12:19:31.315657Z",
     "shell.execute_reply.started": "2021-10-01T08:31:21.250724Z"
    },
    "papermill": {
     "duration": 0.040401,
     "end_time": "2021-10-01T12:19:31.315801",
     "exception": false,
     "start_time": "2021-10-01T12:19:31.275400",
     "status": "completed"
    },
    "tags": []
   },
   "outputs": [],
   "source": [
    "# Freezing bottom layers to preserve reused weights from large error gradients\n",
    "for layer in base_model.layers:\n",
    "    layer.trainable = False\n",
    "\n",
    "preoptimizer = keras.optimizers.SGD(learning_rate=0.1)\n",
    "model.compile(loss='categorical_crossentropy', optimizer=preoptimizer, metrics=['accuracy'])"
   ]
  },
  {
   "cell_type": "code",
   "execution_count": 11,
   "id": "685f97c7",
   "metadata": {
    "execution": {
     "iopub.execute_input": "2021-10-01T12:19:31.354718Z",
     "iopub.status.busy": "2021-10-01T12:19:31.354090Z",
     "iopub.status.idle": "2021-10-01T13:21:13.489522Z",
     "shell.execute_reply": "2021-10-01T13:21:13.490575Z",
     "shell.execute_reply.started": "2021-10-01T08:31:21.289596Z"
    },
    "papermill": {
     "duration": 3702.157972,
     "end_time": "2021-10-01T13:21:13.490915",
     "exception": false,
     "start_time": "2021-10-01T12:19:31.332943",
     "status": "completed"
    },
    "tags": []
   },
   "outputs": [
    {
     "name": "stderr",
     "output_type": "stream",
     "text": [
      "2021-10-01 12:19:32.021144: I tensorflow/compiler/mlir/mlir_graph_optimization_pass.cc:116] None of the MLIR optimization passes are enabled (registered 2)\n",
      "2021-10-01 12:19:32.026041: I tensorflow/core/platform/profile_utils/cpu_utils.cc:112] CPU Frequency: 2000165000 Hz\n"
     ]
    },
    {
     "name": "stdout",
     "output_type": "stream",
     "text": [
      "Epoch 1/15\n"
     ]
    },
    {
     "name": "stderr",
     "output_type": "stream",
     "text": [
      "2021-10-01 12:19:34.414486: I tensorflow/stream_executor/platform/default/dso_loader.cc:49] Successfully opened dynamic library libcublas.so.11\n",
      "2021-10-01 12:19:35.213250: I tensorflow/stream_executor/platform/default/dso_loader.cc:49] Successfully opened dynamic library libcublasLt.so.11\n",
      "2021-10-01 12:19:35.237340: I tensorflow/stream_executor/platform/default/dso_loader.cc:49] Successfully opened dynamic library libcudnn.so.8\n"
     ]
    },
    {
     "name": "stdout",
     "output_type": "stream",
     "text": [
      "574/574 [==============================] - 340s 578ms/step - loss: 1.1916 - accuracy: 0.6101 - val_loss: 0.6210 - val_accuracy: 0.7952\n",
      "Epoch 2/15\n",
      "574/574 [==============================] - 238s 415ms/step - loss: 0.5891 - accuracy: 0.8054 - val_loss: 0.5458 - val_accuracy: 0.8120\n",
      "Epoch 3/15\n",
      "574/574 [==============================] - 240s 419ms/step - loss: 0.5022 - accuracy: 0.8367 - val_loss: 0.4718 - val_accuracy: 0.8465\n",
      "Epoch 4/15\n",
      "574/574 [==============================] - 238s 415ms/step - loss: 0.4494 - accuracy: 0.8571 - val_loss: 0.4694 - val_accuracy: 0.8449\n",
      "Epoch 5/15\n",
      "574/574 [==============================] - 239s 415ms/step - loss: 0.4253 - accuracy: 0.8579 - val_loss: 0.4403 - val_accuracy: 0.8495\n",
      "Epoch 6/15\n",
      "574/574 [==============================] - 238s 414ms/step - loss: 0.3952 - accuracy: 0.8706 - val_loss: 0.4029 - val_accuracy: 0.8672\n",
      "Epoch 7/15\n",
      "574/574 [==============================] - 238s 415ms/step - loss: 0.3765 - accuracy: 0.8732 - val_loss: 0.4131 - val_accuracy: 0.8595\n",
      "Epoch 8/15\n",
      "574/574 [==============================] - 238s 415ms/step - loss: 0.3617 - accuracy: 0.8816 - val_loss: 0.3838 - val_accuracy: 0.8720\n",
      "Epoch 9/15\n",
      "574/574 [==============================] - 239s 416ms/step - loss: 0.3498 - accuracy: 0.8847 - val_loss: 0.4273 - val_accuracy: 0.8563\n",
      "Epoch 10/15\n",
      "574/574 [==============================] - 240s 417ms/step - loss: 0.3412 - accuracy: 0.8860 - val_loss: 0.3714 - val_accuracy: 0.8742\n",
      "Epoch 11/15\n",
      "574/574 [==============================] - 241s 419ms/step - loss: 0.3272 - accuracy: 0.8901 - val_loss: 0.3633 - val_accuracy: 0.8737\n",
      "Epoch 12/15\n",
      "574/574 [==============================] - 241s 420ms/step - loss: 0.3180 - accuracy: 0.8952 - val_loss: 0.3777 - val_accuracy: 0.8722\n",
      "Epoch 13/15\n",
      "574/574 [==============================] - 242s 421ms/step - loss: 0.3118 - accuracy: 0.8961 - val_loss: 0.3362 - val_accuracy: 0.8844\n",
      "Epoch 14/15\n",
      "574/574 [==============================] - 244s 424ms/step - loss: 0.3033 - accuracy: 0.9011 - val_loss: 0.3482 - val_accuracy: 0.8818\n",
      "Epoch 15/15\n",
      "574/574 [==============================] - 243s 423ms/step - loss: 0.3097 - accuracy: 0.8996 - val_loss: 0.3719 - val_accuracy: 0.8742\n"
     ]
    }
   ],
   "source": [
    "history = model.fit(\n",
    "    train_set, \n",
    "    epochs=15, \n",
    "    validation_data=valid_set,\n",
    "    steps_per_epoch=len(train_set),\n",
    "    validation_steps=len(valid_set)\n",
    ")"
   ]
  },
  {
   "cell_type": "code",
   "execution_count": 12,
   "id": "3bfd0a7e",
   "metadata": {
    "execution": {
     "iopub.execute_input": "2021-10-01T13:21:18.220057Z",
     "iopub.status.busy": "2021-10-01T13:21:18.219272Z",
     "iopub.status.idle": "2021-10-01T13:21:18.227900Z",
     "shell.execute_reply": "2021-10-01T13:21:18.228278Z",
     "shell.execute_reply.started": "2021-10-01T09:32:45.016463Z"
    },
    "papermill": {
     "duration": 2.387629,
     "end_time": "2021-10-01T13:21:18.228418",
     "exception": false,
     "start_time": "2021-10-01T13:21:15.840789",
     "status": "completed"
    },
    "tags": []
   },
   "outputs": [],
   "source": [
    "# Now unfreezing to train the complete model\n",
    "# Using callback to save only the best model and early-stopping to save some time\n",
    "for layer in base_model.layers:\n",
    "    layer.trainable = True\n",
    "\n",
    "optimizer = keras.optimizers.Nadam(learning_rate=0.0001)\n",
    "model.compile(loss='categorical_crossentropy', optimizer=optimizer, metrics=['accuracy'])\n",
    "checkpoint_cb = keras.callbacks.ModelCheckpoint(\"disease_classifier_over_xception.h5\", save_best_only=True)\n",
    "early_stopping_cb = keras.callbacks.EarlyStopping(patience=10, restore_best_weights=True)"
   ]
  },
  {
   "cell_type": "code",
   "execution_count": 13,
   "id": "72b7e21c",
   "metadata": {
    "execution": {
     "iopub.execute_input": "2021-10-01T13:21:22.615357Z",
     "iopub.status.busy": "2021-10-01T13:21:22.613851Z",
     "iopub.status.idle": "2021-10-01T15:38:28.394792Z",
     "shell.execute_reply": "2021-10-01T15:38:28.393904Z",
     "shell.execute_reply.started": "2021-10-01T09:32:45.040596Z"
    },
    "papermill": {
     "duration": 8227.978528,
     "end_time": "2021-10-01T15:38:28.394932",
     "exception": false,
     "start_time": "2021-10-01T13:21:20.416404",
     "status": "completed"
    },
    "scrolled": true,
    "tags": []
   },
   "outputs": [
    {
     "name": "stdout",
     "output_type": "stream",
     "text": [
      "Epoch 1/100\n",
      "574/574 [==============================] - 338s 569ms/step - loss: 0.3346 - accuracy: 0.8865 - val_loss: 0.0781 - val_accuracy: 0.9723\n",
      "Epoch 2/100\n",
      "574/574 [==============================] - 328s 570ms/step - loss: 0.0455 - accuracy: 0.9847 - val_loss: 0.0339 - val_accuracy: 0.9880\n",
      "Epoch 3/100\n",
      "574/574 [==============================] - 327s 569ms/step - loss: 0.0299 - accuracy: 0.9903 - val_loss: 0.0187 - val_accuracy: 0.9943\n",
      "Epoch 4/100\n",
      "574/574 [==============================] - 343s 597ms/step - loss: 0.0189 - accuracy: 0.9931 - val_loss: 0.0256 - val_accuracy: 0.9911\n",
      "Epoch 5/100\n",
      "574/574 [==============================] - 332s 579ms/step - loss: 0.0196 - accuracy: 0.9941 - val_loss: 0.0411 - val_accuracy: 0.9889\n",
      "Epoch 6/100\n",
      "574/574 [==============================] - 332s 578ms/step - loss: 0.0156 - accuracy: 0.9951 - val_loss: 0.0476 - val_accuracy: 0.9878\n",
      "Epoch 7/100\n",
      "574/574 [==============================] - 344s 598ms/step - loss: 0.0173 - accuracy: 0.9942 - val_loss: 0.0349 - val_accuracy: 0.9889\n",
      "Epoch 8/100\n",
      "574/574 [==============================] - 333s 580ms/step - loss: 0.0142 - accuracy: 0.9942 - val_loss: 0.0161 - val_accuracy: 0.9950\n",
      "Epoch 9/100\n",
      "574/574 [==============================] - 329s 573ms/step - loss: 0.0154 - accuracy: 0.9959 - val_loss: 0.0268 - val_accuracy: 0.9908\n",
      "Epoch 10/100\n",
      "574/574 [==============================] - 328s 571ms/step - loss: 0.0142 - accuracy: 0.9953 - val_loss: 0.0262 - val_accuracy: 0.9930\n",
      "Epoch 11/100\n",
      "574/574 [==============================] - 321s 558ms/step - loss: 0.0077 - accuracy: 0.9974 - val_loss: 0.0132 - val_accuracy: 0.9967\n",
      "Epoch 12/100\n",
      "574/574 [==============================] - 321s 559ms/step - loss: 0.0122 - accuracy: 0.9957 - val_loss: 0.0179 - val_accuracy: 0.9954\n",
      "Epoch 13/100\n",
      "574/574 [==============================] - 325s 565ms/step - loss: 0.0125 - accuracy: 0.9965 - val_loss: 0.0161 - val_accuracy: 0.9965\n",
      "Epoch 14/100\n",
      "574/574 [==============================] - 325s 567ms/step - loss: 0.0101 - accuracy: 0.9961 - val_loss: 0.0133 - val_accuracy: 0.9965\n",
      "Epoch 15/100\n",
      "574/574 [==============================] - 326s 568ms/step - loss: 0.0065 - accuracy: 0.9981 - val_loss: 0.0069 - val_accuracy: 0.9978\n",
      "Epoch 16/100\n",
      "574/574 [==============================] - 323s 563ms/step - loss: 0.0107 - accuracy: 0.9962 - val_loss: 0.0144 - val_accuracy: 0.9963\n",
      "Epoch 17/100\n",
      "574/574 [==============================] - 326s 567ms/step - loss: 0.0107 - accuracy: 0.9968 - val_loss: 0.0191 - val_accuracy: 0.9963\n",
      "Epoch 18/100\n",
      "574/574 [==============================] - 328s 571ms/step - loss: 0.0072 - accuracy: 0.9975 - val_loss: 0.0158 - val_accuracy: 0.9956\n",
      "Epoch 19/100\n",
      "574/574 [==============================] - 324s 564ms/step - loss: 0.0108 - accuracy: 0.9970 - val_loss: 0.0327 - val_accuracy: 0.9921\n",
      "Epoch 20/100\n",
      "574/574 [==============================] - 333s 579ms/step - loss: 0.0082 - accuracy: 0.9977 - val_loss: 0.0159 - val_accuracy: 0.9965\n",
      "Epoch 21/100\n",
      "574/574 [==============================] - 328s 572ms/step - loss: 0.0048 - accuracy: 0.9982 - val_loss: 0.0109 - val_accuracy: 0.9969\n",
      "Epoch 22/100\n",
      "574/574 [==============================] - 324s 563ms/step - loss: 0.0046 - accuracy: 0.9989 - val_loss: 0.0154 - val_accuracy: 0.9969\n",
      "Epoch 23/100\n",
      "574/574 [==============================] - 327s 569ms/step - loss: 0.0039 - accuracy: 0.9988 - val_loss: 0.0114 - val_accuracy: 0.9969\n",
      "Epoch 24/100\n",
      "574/574 [==============================] - 324s 564ms/step - loss: 0.0077 - accuracy: 0.9977 - val_loss: 0.0095 - val_accuracy: 0.9983\n",
      "Epoch 25/100\n",
      "574/574 [==============================] - 329s 572ms/step - loss: 0.0066 - accuracy: 0.9978 - val_loss: 0.0101 - val_accuracy: 0.9972\n"
     ]
    }
   ],
   "source": [
    "history = model.fit(\n",
    "    train_set, \n",
    "    epochs=100, \n",
    "    validation_data=valid_set,\n",
    "    steps_per_epoch=len(train_set),\n",
    "    validation_steps=len(valid_set),\n",
    "    callbacks=[checkpoint_cb, early_stopping_cb]\n",
    ")"
   ]
  },
  {
   "cell_type": "code",
   "execution_count": 14,
   "id": "bf8f575a",
   "metadata": {
    "execution": {
     "iopub.execute_input": "2021-10-01T15:38:40.369223Z",
     "iopub.status.busy": "2021-10-01T15:38:40.367597Z",
     "iopub.status.idle": "2021-10-01T15:38:40.369851Z",
     "shell.execute_reply": "2021-10-01T15:38:40.370249Z",
     "shell.execute_reply.started": "2021-10-01T12:09:30.873350Z"
    },
    "papermill": {
     "duration": 6.061226,
     "end_time": "2021-10-01T15:38:40.370382",
     "exception": false,
     "start_time": "2021-10-01T15:38:34.309156",
     "status": "completed"
    },
    "tags": []
   },
   "outputs": [],
   "source": [
    "import pandas as pd"
   ]
  },
  {
   "cell_type": "code",
   "execution_count": 15,
   "id": "f3399dbe",
   "metadata": {
    "execution": {
     "iopub.execute_input": "2021-10-01T15:38:53.022179Z",
     "iopub.status.busy": "2021-10-01T15:38:53.019743Z",
     "iopub.status.idle": "2021-10-01T15:38:53.277133Z",
     "shell.execute_reply": "2021-10-01T15:38:53.276708Z",
     "shell.execute_reply.started": "2021-10-01T12:16:11.838509Z"
    },
    "papermill": {
     "duration": 6.168532,
     "end_time": "2021-10-01T15:38:53.277252",
     "exception": false,
     "start_time": "2021-10-01T15:38:47.108720",
     "status": "completed"
    },
    "tags": []
   },
   "outputs": [
    {
     "name": "stdout",
     "output_type": "stream",
     "text": [
      "\n",
      "Minimum validation loss: 0.006888397503644228\n",
      "\n",
      "Accuracy achieved on validation data: 0.9978189468383789\n",
      "\n"
     ]
    },
    {
     "data": {
      "image/png": "[encoded data removed]",
      "text/plain": [
       "<Figure size 432x288 with 1 Axes>"
      ]
     },
     "metadata": {
      "needs_background": "light"
     },
     "output_type": "display_data"
    }
   ],
   "source": [
    "history_df = pd.DataFrame(history.history)\n",
    "history_df.loc[:, ['loss', 'val_loss']].plot()\n",
    "print(\"\\nMinimum validation loss: {}\".format(history_df['val_loss'].min()))\n",
    "print(\"\\nAccuracy achieved on validation data: {}\\n\".format(history_df['val_accuracy'][len(history_df)-11]))"
   ]
  }
 ],
 "metadata": {
  "kernelspec": {
   "display_name": "Python 3",
   "language": "python",
   "name": "python3"
  },
  "language_info": {
   "codemirror_mode": {
    "name": "ipython",
    "version": 3
   },
   "file_extension": ".py",
   "mimetype": "text/x-python",
   "name": "python",
   "nbconvert_exporter": "python",
   "pygments_lexer": "ipython3",
   "version": "3.7.10"
  },
  "papermill": {
   "default_parameters": {},
   "duration": 11996.055074,
   "end_time": "2021-10-01T15:39:03.103296",
   "environment_variables": {},
   "exception": null,
   "input_path": "__notebook__.ipynb",
   "output_path": "__notebook__.ipynb",
   "parameters": {},
   "start_time": "2021-10-01T12:19:07.048222",
   "version": "2.3.3"
  }
 },
 "nbformat": 4,
 "nbformat_minor": 5
}
